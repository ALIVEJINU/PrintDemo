{
 "cells": [
  {
   "cell_type": "markdown",
   "id": "87ee572f",
   "metadata": {},
   "source": [
    "# 이것은 print 예제 입니다."
   ]
  },
  {
   "cell_type": "code",
   "execution_count": 5,
   "id": "ce819385",
   "metadata": {},
   "outputs": [
    {
     "name": "stdout",
     "output_type": "stream",
     "text": [
      "Hello, Python!\n"
     ]
    }
   ],
   "source": [
    "# 변수 선언\n",
    "name = \"Alice\"\n",
    "age = 25\n",
    "score = 95.5\n",
    "\n",
    "# 1. 기본 출력\n",
    "print(\"Hello, Python!\")"
   ]
  },
  {
   "cell_type": "code",
   "execution_count": 6,
   "id": "63546e95",
   "metadata": {},
   "outputs": [
    {
     "name": "stdout",
     "output_type": "stream",
     "text": [
      "Name: Alice age: 25 Score: 95.5\n"
     ]
    }
   ],
   "source": [
    "# 2. 여러 값 출력 (콤마로 구분 → 자동 띄어쓰기)\n",
    "print(\"Name:\", name, \"age:\", age, \"Score:\", score)"
   ]
  },
  {
   "cell_type": "code",
   "execution_count": 7,
   "id": "8b9d22fc",
   "metadata": {},
   "outputs": [
    {
     "name": "stdout",
     "output_type": "stream",
     "text": [
      "My name is Alice, I am 25 years old, score: 95.5\n"
     ]
    }
   ],
   "source": [
    "# 3. f-string (가장 많이 쓰임, Python 3.6+)\n",
    "print(f\"My name is {name}, I am {age} years old, score: {score}\")"
   ]
  }
 ],
 "metadata": {
  "kernelspec": {
   "display_name": ".venv",
   "language": "python",
   "name": "python3"
  },
  "language_info": {
   "codemirror_mode": {
    "name": "ipython",
    "version": 3
   },
   "file_extension": ".py",
   "mimetype": "text/x-python",
   "name": "python",
   "nbconvert_exporter": "python",
   "pygments_lexer": "ipython3",
   "version": "3.13.7"
  }
 },
 "nbformat": 4,
 "nbformat_minor": 5
}
